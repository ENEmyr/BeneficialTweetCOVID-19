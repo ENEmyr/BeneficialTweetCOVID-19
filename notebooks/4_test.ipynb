{
 "cells": [
  {
   "cell_type": "code",
   "execution_count": 4,
   "metadata": {},
   "outputs": [],
   "source": [
    "from joblib import load\n",
    "from pythainlp.corpus import thai_stopwords\n",
    "from pythainlp.tokenize import word_tokenize\n",
    "from pythainlp.word_vector import sentence_vectorizer\n",
    "from os.path import abspath, join"
   ]
  },
  {
   "cell_type": "code",
   "execution_count": 7,
   "metadata": {},
   "outputs": [],
   "source": [
    "def remove_stopwords(sentence):\n",
    "    words = list(filter(lambda word: not word in thai_stopwords(), word_tokenize(sentence)))\n",
    "    return ''.join(words)\n",
    "def predict(sentence):\n",
    "    classifier = load(abspath(join('..', 'model', 'rf_classifier.joblib')))\n",
    "    sentence = remove_stopwords(sentence)\n",
    "    return classifier.predict(sentence_vectorizer(sentence))"
   ]
  },
  {
   "cell_type": "code",
   "execution_count": 14,
   "metadata": {},
   "outputs": [
    {
     "name": "stdout",
     "output_type": "stream",
     "text": [
      "Wall time: 42 ms\n"
     ]
    },
    {
     "data": {
      "text/plain": [
       "array([1])"
      ]
     },
     "execution_count": 14,
     "metadata": {},
     "output_type": "execute_result"
    }
   ],
   "source": [
    "%%time\n",
    "predict('นายกฯ พบประชาชนวัดระฆังโฆสิตาราม ย้ำ เร่งช่วยเหลือประชาชนทุกกลุ่ม ขอให้ปรับตัวรับวิถีชีวิตปกติใหม่ (New Normal)')"
   ]
  }
 ],
 "metadata": {
  "kernelspec": {
   "display_name": "Python 3.8.2 64-bit ('useful-tweets': conda)",
   "language": "python",
   "name": "python38264bitusefultweetscondad980e3430077457f81c805f459b4d055"
  },
  "language_info": {
   "codemirror_mode": {
    "name": "ipython",
    "version": 3
   },
   "file_extension": ".py",
   "mimetype": "text/x-python",
   "name": "python",
   "nbconvert_exporter": "python",
   "pygments_lexer": "ipython3",
   "version": "3.8.2"
  }
 },
 "nbformat": 4,
 "nbformat_minor": 4
}
