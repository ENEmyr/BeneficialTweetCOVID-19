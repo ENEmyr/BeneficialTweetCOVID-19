{
 "cells": [
  {
   "cell_type": "code",
   "execution_count": 1,
   "metadata": {},
   "outputs": [],
   "source": [
    "import numpy as np\n",
    "import json, csv\n",
    "from urllib.parse import unquote\n",
    "from os.path import join, abspath\n",
    "from codecs import open"
   ]
  },
  {
   "cell_type": "code",
   "execution_count": 2,
   "metadata": {},
   "outputs": [],
   "source": [
    "def prevent_duplicated_id(tweets):\n",
    "    filtered_tweets, unique_tweet_id = [], []\n",
    "    for index in range(len(tweets)):\n",
    "        tweets[index]['text_html'] = unquote(tweets[index]['text_html'])\n",
    "        if tweets[index]['tweet_id'] not in unique_tweet_id:\n",
    "            unique_tweet_id.append(tweets[index]['tweet_id'])\n",
    "            filtered_tweets.append(tweets[index])\n",
    "    return filtered_tweets\n",
    "def write_csv(tweets, file_name):\n",
    "    row_list = [[\"tweet_id\", \"text\", \"class\"]]\n",
    "    for index in range(len(tweets)):\n",
    "        tweet_id = f'\"{str(tweets[index][\"tweet_id\"])}\"' # convert tweet_id to str\n",
    "        append_row = [tweet_id, tweets[index]['text'], 0] # class = 0 = useless tweet, class = 1 = useful tweet\n",
    "        row_list.append(append_row)\n",
    "    with open(abspath(join('..', 'dataset', file_name+'.csv')), 'w', encoding='utf-8-sig') as f:\n",
    "        writer = csv.writer(f, delimiter = ',')\n",
    "        writer.writerows(row_list)"
   ]
  },
  {
   "cell_type": "code",
   "execution_count": 3,
   "metadata": {},
   "outputs": [
    {
     "name": "stdout",
     "output_type": "stream",
     "text": [
      "1118 1098\n"
     ]
    }
   ],
   "source": [
    "with open(\n",
    "              abspath(join('..', 'dataset', 'covid19_raw_dataset.json')),\n",
    "              'r',\n",
    "              encoding='utf-8-sig') as f:\n",
    "        tweets = json.load(f)\n",
    "filtered_tweets = prevent_duplicated_id(tweets)\n",
    "print(len(tweets), len(filtered_tweets))"
   ]
  },
  {
   "cell_type": "code",
   "execution_count": 4,
   "metadata": {},
   "outputs": [],
   "source": [
    "# create unlabel dataset\n",
    "filtered_tweets = filtered_tweets[98:] # trim dataset size to 1000\n",
    "write_csv(filterd_tweets, \"map_label_to_dataset2\")"
   ]
  },
  {
   "cell_type": "code",
   "execution_count": 4,
   "metadata": {},
   "outputs": [
    {
     "name": "stdout",
     "output_type": "stream",
     "text": [
      "619 600\n"
     ]
    }
   ],
   "source": [
    "# create emotional map dataset\n",
    "with open(\n",
    "              abspath(join('..', 'dataset', 'emotional_raw_dataset.json')),\n",
    "              'r',\n",
    "              encoding='utf-8-sig') as f:\n",
    "        tweets = json.load(f)\n",
    "filtered_tweets = prevent_duplicated_id(tweets)\n",
    "write_csv(filtered_tweets, \"map_emotional_dataset\")\n",
    "print(len(tweets), len(filtered_tweets))"
   ]
  }
 ],
 "metadata": {
  "kernelspec": {
   "display_name": "Python 3",
   "language": "python",
   "name": "python3"
  },
  "language_info": {
   "codemirror_mode": {
    "name": "ipython",
    "version": 3
   },
   "file_extension": ".py",
   "mimetype": "text/x-python",
   "name": "python",
   "nbconvert_exporter": "python",
   "pygments_lexer": "ipython3",
   "version": "3.8.2"
  }
 },
 "nbformat": 4,
 "nbformat_minor": 2
}
